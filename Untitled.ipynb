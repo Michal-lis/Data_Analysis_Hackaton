{
 "cells": [
  {
   "cell_type": "code",
   "execution_count": null,
   "metadata": {},
   "outputs": [],
<<<<<<< Updated upstream
   "source": []
=======
   "source": [
    ""
   ]
>>>>>>> Stashed changes
  }
 ],
 "metadata": {},
 "nbformat": 4,
 "nbformat_minor": 0
}