{
 "cells": [
  {
   "cell_type": "code",
   "execution_count": 2,
   "metadata": {},
   "outputs": [],
   "source": [
    "import pandas as pd\n",
    "import numpy as np\n",
    "import seaborn as sns\n",
    "sns.set_style(\"darkgrid\")\n",
    "sns.set()\n",
    "from matplotlib import pyplot as plt\n",
    "import os\n",
    "sensors_df = pd.read_csv(\"sensor_locations.csv\")\n",
    "december_df = pd.read_csv(\"december-2017.csv\")"
   ]
  },
  {
   "cell_type": "code",
   "execution_count": null,
   "metadata": {},
   "outputs": [],
   "source": [
    "# print(december_df.columns.values)\n",
    "numbers=set()\n",
    "for value in december_df.columns.values[1:]:\n",
    "    num=int(value.split('_')[0])\n",
    "    numbers.add(num)\n",
    "numbers=sorted(numbers)\n",
    "print(numbers)\n",
    "december_df.shape"
   ]
  },
  {
   "cell_type": "code",
   "execution_count": null,
   "metadata": {},
   "outputs": [],
   "source": [
    "df_140 = december_df[['UTC time', '140_temperature', '140_humidity', '140_pressure', '140_pm1', '140_pm10', '140_pm25']].truncate(before=0, after=23)\n",
    "df_140"
   ]
  },
  {
   "cell_type": "code",
   "execution_count": null,
   "metadata": {
    "scrolled": true
   },
   "outputs": [],
   "source": [
    "df_140['UTC time']=df_140['UTC time'].apply(lambda x: int(x[11:13]))\n",
    "df_140"
   ]
  },
  {
   "cell_type": "code",
   "execution_count": null,
   "metadata": {},
   "outputs": [],
   "source": [
    "sns.lmplot(x='UTC time', y='140_temperature', data=df_140)\n",
    "plt.show()"
   ]
  },
  {
   "cell_type": "code",
   "execution_count": null,
   "metadata": {},
   "outputs": [],
   "source": [
    "sns.lmplot(x='UTC time', y='140_humidity', data=df_140)\n",
    "plt.show()"
   ]
  },
  {
   "cell_type": "code",
   "execution_count": null,
   "metadata": {},
   "outputs": [],
   "source": [
    "sns.lmplot(x='UTC time', y='140_pressure', data=df_140)\n",
    "plt.show()"
   ]
  },
  {
   "cell_type": "code",
   "execution_count": null,
   "metadata": {},
   "outputs": [],
   "source": [
    "sns.lmplot(x='UTC time', y='140_pm1', data=df_140)\n",
    "plt.show()"
   ]
  },
  {
   "cell_type": "code",
   "execution_count": null,
   "metadata": {},
   "outputs": [],
   "source": [
    "sns.lmplot(x='UTC time', y='140_pm10', data=df_140)\n",
    "plt.show()"
   ]
  },
  {
   "cell_type": "code",
   "execution_count": null,
   "metadata": {},
   "outputs": [],
   "source": [
    "sns.lmplot(x='UTC time', y='140_pm25', data=df_140)\n",
    "plt.show()"
   ]
  },
  {
   "cell_type": "code",
   "execution_count": null,
   "metadata": {},
   "outputs": [],
   "source": []
  },
  {
   "cell_type": "code",
   "execution_count": null,
   "metadata": {},
   "outputs": [],
   "source": [
    "means=pd.DataFrame()\n",
    "meanss = []\n",
    "for idx,number in enumerate(numbers):\n",
    "    sensor_df=december_df.iloc[:,(1+6*idx):(7+6*idx)]\n",
    "    # row_df=pd.DataFrame(0, columns=['sensor_id', 'temperature', 'humidity', 'pressure', 'pm1', 'pm10', 'pm25'])\n",
    "    print(sensor_df)\n",
    "    # meanss.append(ro)\n",
    "    # row_df.insert(idx,'sensor_id',number)\n",
    "#     for param in sensor_df.columns.values:\n",
    "#         row_df.insert(idx+1,param.split('_')[1],sensor_df[param].mean())\n",
    "#     print(row_df)\n",
    "# print(means.head)"
   ]
  },
  {
   "cell_type": "code",
   "execution_count": null,
   "metadata": {},
   "outputs": [],
   "source": [
    "ms = december_df.mean()\n",
    "means = pd.DataFrame([], columns=['sensor_id', 'temperature', 'humidity', 'pressure', 'pm1', 'pm10', 'pm25'])"
   ]
  },
  {
   "cell_type": "code",
   "execution_count": null,
   "metadata": {},
   "outputs": [],
   "source": [
    "ms.index[0].split('_')[0]"
   ]
  },
  {
   "cell_type": "code",
   "execution_count": null,
   "metadata": {},
   "outputs": [],
   "source": [
    "{ms.index[i*6].split('_')[0]: list[ms[i*6:i*6+6]] for i in range(int(ms.shape[0]/6))}"
   ]
  },
  {
   "cell_type": "code",
   "execution_count": null,
   "metadata": {},
   "outputs": [],
   "source": [
    "means = pd.DataFrame({ms.index[i*6].split('_')[0]: list(ms[i*6:i*6+6]) for i in range(int(ms.shape[0]/6))}).T\n",
    "means.columns = ['temperature', 'humidity', 'pressure', 'pm1', 'pm10', 'pm25']"
   ]
  },
  {
   "cell_type": "code",
   "execution_count": null,
   "metadata": {},
   "outputs": [],
   "source": [
    "means.head()"
   ]
  },
  {
   "cell_type": "code",
   "execution_count": null,
   "metadata": {},
   "outputs": [],
   "source": [
    "sensors_loc = pd.read_csv(\"sensor_locations.csv\").set_index('id')\n",
    "sensors_loc.head()"
   ]
  },
  {
   "cell_type": "code",
   "execution_count": null,
   "metadata": {},
   "outputs": [],
   "source": [
    "means.index = means.index.astype('int')"
   ]
  },
  {
   "cell_type": "code",
   "execution_count": 68,
   "metadata": {},
   "outputs": [],
   "source": [
    "data = means.join(sensors_loc)"
   ]
  },
  {
   "cell_type": "code",
   "execution_count": null,
   "metadata": {},
   "outputs": [],
   "source": []
  }
 ],
 "metadata": {
  "kernelspec": {
   "display_name": "Python 3",
   "language": "python",
   "name": "python3"
  },
  "language_info": {
   "codemirror_mode": {
    "name": "ipython",
    "version": 3
   },
   "file_extension": ".py",
   "mimetype": "text/x-python",
   "name": "python",
   "nbconvert_exporter": "python",
   "pygments_lexer": "ipython3",
   "version": "3.6.0"
  }
 },
 "nbformat": 4,
 "nbformat_minor": 1
}
