{
 "cells": [
  {
   "cell_type": "code",
   "execution_count": 3,
   "metadata": {
    "collapsed": true
   },
   "outputs": [
    {
     "data": {
      "text/plain": [
       "XGBRegressor(base_score=0.5, booster='gbtree', colsample_bylevel=1,\n       colsample_bytree=1, gamma=0, learning_rate=0.1, max_delta_step=0,\n       max_depth=3, min_child_weight=1, missing=nan, n_estimators=100,\n       n_jobs=1, nthread=None, objective='reg:linear', random_state=0,\n       reg_alpha=0, reg_lambda=1, scale_pos_weight=1, seed=None,\n       silent=True, subsample=1)"
      ]
     },
     "execution_count": 3,
     "metadata": {},
     "output_type": "execute_result"
    }
   ],
   "source": [
    "import pickle\n",
    "import pandas as pd\n",
    "regressor = pickle.load( open( \"saved_model\", \"rb\" ) )\n",
    "regressor"
   ]
  },
  {
   "cell_type": "code",
   "execution_count": 2,
   "metadata": {},
   "outputs": [
    {
     "data": {
      "text/plain": [
       "array([0.12287334, 0.0831758 , 0.04914934, 0.03402647, 0.02835539,\n       0.03213611, 0.0926276 , 0.02646503, 0.03780719, 0.0926276 ,\n       0.01890359, 0.0415879 , 0.01701323, 0.03213611, 0.        ,\n       0.01134215, 0.02457467, 0.01890359, 0.        , 0.00567108,\n       0.01134215, 0.01701323, 0.10964083, 0.03591682, 0.00378072,\n       0.05293006], dtype=float32)"
      ]
     },
     "execution_count": 2,
     "metadata": {},
     "output_type": "execute_result"
    }
   ],
   "source": [
    ""
   ]
  },
  {
   "cell_type": "code",
   "execution_count": 5,
   "metadata": {},
   "outputs": [],
   "source": [
    "grid_processed = pd.read_csv(\"./data/grid_processed.csv\", index_col=0)"
   ]
  },
  {
   "cell_type": "code",
   "execution_count": 6,
   "metadata": {},
   "outputs": [],
   "source": [
    "grid_processed['budynki_niemieszkalne_9'] = grid_processed['budynki_all_9'] - grid_processed['budynki_mieszkalne_9']\n",
    "grid_processed['populacja_na_budynek_9'] = grid_processed['populacja_razem_9'] - grid_processed['budynki_mieszkalne_9']\n",
    "grid_processed['budynki_niemieszkalne_na_populacje_9'] = grid_processed['budynki_niemieszkalne_9'] / (grid_processed['populacja_razem_9'] + 1)\n",
    "X_grid = grid_processed.drop(['longitude', 'latitude'], axis=1)"
   ]
  },
  {
   "cell_type": "code",
   "execution_count": 11,
   "metadata": {},
   "outputs": [
    {
     "data": {
      "text/plain": [
       "[('Oddział Banku_1000', 0.0),\n ('Hipermarket_1000', 0.0),\n ('populacja_na_budynek_9', 0.0037807184),\n ('Hipermarket_2000', 0.0056710774),\n ('Oddział Banku_2000', 0.011342155),\n ('Stacja Paliw_1000', 0.011342155),\n ('Przystanek autobusowy_1000', 0.017013233),\n ('Stacja Paliw_3000', 0.017013233),\n ('budynki_mieszkalne_16', 0.018903593),\n ('Przystanek tramwajowy_2000', 0.018903593),\n ('Przystanek tramwajowy_1000', 0.02457467),\n ('budynki_all_16', 0.026465029),\n ('populacja_razem_16', 0.028355388),\n ('populacja_razem_25', 0.032136105),\n ('Przystanek autobusowy_2000', 0.032136105),\n ('populacja_razem_9', 0.034026466),\n ('budynki_niemieszkalne_9', 0.035916824),\n ('budynki_all_25', 0.037807185),\n ('budynki_mieszkalne_25', 0.0415879),\n ('dochod_bud_pra_25', 0.04914934),\n ('budynki_niemieszkalne_na_populacje_9', 0.052930057),\n ('dochod_bud_pra_16', 0.0831758),\n ('budynki_all_9', 0.0926276),\n ('budynki_mieszkalne_9', 0.0926276),\n ('elevation', 0.10964083),\n ('dochod_bud_pra_9', 0.12287334)]"
      ]
     },
     "execution_count": 11,
     "metadata": {},
     "output_type": "execute_result"
    }
   ],
   "source": [
    "sorted([tup for tup in zip(X_grid.columns, regressor.feature_importances_)], key=lambda x: x[1])"
   ]
  },
  {
   "cell_type": "code",
   "execution_count": null,
   "metadata": {},
   "outputs": [],
   "source": [
    "grid_out = regressor.predict(X_grid)"
   ]
  }
 ],
 "metadata": {
  "kernelspec": {
   "display_name": "Python 2",
   "language": "python",
   "name": "python2"
  },
  "language_info": {
   "codemirror_mode": {
    "name": "ipython",
    "version": 2
   },
   "file_extension": ".py",
   "mimetype": "text/x-python",
   "name": "python",
   "nbconvert_exporter": "python",
   "pygments_lexer": "ipython2",
   "version": "2.7.6"
  }
 },
 "nbformat": 4,
 "nbformat_minor": 0
}
