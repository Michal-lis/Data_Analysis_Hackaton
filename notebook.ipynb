{
 "cells": [
  {
   "cell_type": "code",
   "execution_count": 17,
   "metadata": {},
   "outputs": [],
   "source": [
    "import src.db.dataService as db\n",
    "import src.db.preprocess as preprocess\n",
    "import pandas as pd\n",
    "import matplotlib.pyplot as plt\n",
    "\n",
    "from get_location_features import get_location_features_by_squares, get_location_features_by_radius, get_elevation_data\n",
    "\n",
    "connection = db.create_connection()\n",
    "sensors_data = pd.read_csv(\n",
    "    \"data/air-quality-data-from-extensive-network-of-sensors/sensor_locations.csv\").set_index(\n",
    "    'id')\n",
    "features_by_squares = [\n",
    "    ('grid250_dochod', 'dochod_bud_pra'),\n",
    "    ('grid250_demo_ext', 'populacja_razem'),\n",
    "    ('grid250_demo_ext', 'budynki_all'),\n",
    "    ('grid250_demo_ext', 'budynki_mieszkalne'),\n",
    "]\n",
    "squares = [9, 16, 25]\n",
    "\n",
    "features_by_radius = {\n",
    "    'Przystanek autobusowy': [1000, 2000],\n",
    "    'Oddział Banku': [1000, 2000],\n",
    "    'Przystanek tramwajowy': [1000, 2000],\n",
    "    'Hipermarket': [1000, 2000],\n",
    "    'Stacja Paliw': [1000, 3000]\n",
    "}"
   ]
  },
  {
   "cell_type": "code",
   "execution_count": 18,
   "metadata": {},
   "outputs": [],
   "source": [
    "sensors_data = get_location_features_by_squares(sensors_data, connection, features_by_squares, squares)\n",
    "sensors_data = get_location_features_by_radius(sensors_data, connection, features_by_radius)\n",
    "sensors_data = get_elevation_data(sensors_data)"
   ]
  },
  {
   "cell_type": "code",
   "execution_count": 19,
   "metadata": {},
   "outputs": [
    {
     "name": "stdout",
     "output_type": "stream",
     "text": [
      "      latitude  longitude  dochod_bud_pra_9  dochod_bud_pra_16  \\\n",
      "id                                                               \n",
      "3    50.057748  19.961375             47264              78228   \n",
      "140  50.057747  19.961374             47264              78228   \n",
      "142  50.084816  19.878066             47303              74255   \n",
      "147  50.048924  19.962262             41575              77522   \n",
      "169  50.048699  20.101569             23303              40365   \n",
      "\n",
      "     dochod_bud_pra_25  populacja_razem_9  populacja_razem_16  \\\n",
      "id                                                              \n",
      "3               113184               3743                6098   \n",
      "140             113184               3743                6098   \n",
      "142             121276               1303                1959   \n",
      "147             116384                991                2965   \n",
      "169              40365                 26                  59   \n",
      "\n",
      "     populacja_razem_25  budynki_all_9  budynki_all_16    ...      \\\n",
      "id                                                        ...       \n",
      "3                  9967            169             291    ...       \n",
      "140                9967            169             291    ...       \n",
      "142                4529            279             422    ...       \n",
      "147                5372            146             323    ...       \n",
      "169                  59             17              24    ...       \n",
      "\n",
      "     Przystanek autobusowy_2000  Oddział Banku_1000  Oddział Banku_2000  \\\n",
      "id                                                                        \n",
      "3                            63                   1                   2   \n",
      "140                          63                   1                   2   \n",
      "142                          32                   0                   0   \n",
      "147                          56                   0                   1   \n",
      "169                           1                   0                   0   \n",
      "\n",
      "     Przystanek tramwajowy_1000  Przystanek tramwajowy_2000  Hipermarket_1000  \\\n",
      "id                                                                              \n",
      "3                            17                          75                 0   \n",
      "140                          17                          75                 0   \n",
      "142                           4                           8                 0   \n",
      "147                          12                          64                 0   \n",
      "169                           0                           0                 0   \n",
      "\n",
      "     Hipermarket_2000  Stacja Paliw_1000  Stacja Paliw_3000  elevation  \n",
      "id                                                                      \n",
      "3                   2                  1                 17        203  \n",
      "140                 2                  1                 17        203  \n",
      "142                 1                  0                  7        225  \n",
      "147                 0                  3                 15        202  \n",
      "169                 0                  0                  2        194  \n",
      "\n",
      "[5 rows x 25 columns]\n"
     ]
    }
   ],
   "source": [
    "\n",
    "print(sensors_data.head())"
   ]
  },
  {
   "cell_type": "code",
   "execution_count": 20,
   "metadata": {},
   "outputs": [],
   "source": [
    "def get_target_variables(month):\n",
    "    december_df = pd.read_csv(\"data/air-quality-data-from-extensive-network-of-sensors/\"+month+\"-2017.csv\")\n",
    "    ms = december_df.mean()\n",
    "    means = pd.DataFrame({ms.index[i*6].split('_')[0]: list(ms[i*6:i*6+6]) for i in range(int(ms.shape[0]/6))}).T\n",
    "    means.columns = ['temperature', 'humidity', 'pressure', 'pm1', 'pm10', 'pm25']\n",
    "    means.index = means.index.astype('int64')\n",
    "    return means[['pm1', 'pm10', 'pm25']]"
   ]
  },
  {
   "cell_type": "code",
   "execution_count": 21,
   "metadata": {},
   "outputs": [
    {
     "name": "stdout",
     "output_type": "stream",
     "text": [
      "           pm1       pm10       pm25\n",
      "140  36.632582  39.072790  67.102253\n",
      "142        NaN        NaN        NaN\n",
      "147        NaN        NaN        NaN\n",
      "169  24.949239  25.332487  40.593909\n",
      "170  31.023173  34.793226  53.909091\n",
      "171  32.537262  35.916811  56.802426\n",
      "172  29.376238  34.039604  54.396040\n",
      "173  29.112652  33.060659  52.376083\n",
      "174  33.494208  32.455598  52.223938\n",
      "176  30.270364  33.175043  58.237435\n",
      "177  34.680212  39.130742  60.644876\n",
      "178        NaN        NaN        NaN\n",
      "179  30.726481  34.646341  54.898955\n",
      "180  27.811092  29.889081  48.334489\n",
      "181  32.048527  35.890815  56.495667\n",
      "182  31.197574  34.516464  54.448873\n",
      "183  30.442495  33.729045  53.758285\n",
      "184  31.057192  32.582322  52.521664\n",
      "185  35.203604  37.668468  59.263063\n",
      "187        NaN        NaN        NaN\n",
      "189  28.434095  31.557118  50.379613\n",
      "192  32.960139  37.185442  58.261698\n",
      "194  28.668403  32.071181  50.538194\n",
      "195  31.165121  35.007421  55.669759\n",
      "196  25.925087  29.421603  46.993031\n",
      "201  32.552860  35.190641  55.729636\n",
      "202  36.448873  38.987868  58.982669\n",
      "203  30.062937  33.627622  53.889860\n",
      "204  29.817391  33.601739  53.194783\n",
      "205        NaN        NaN        NaN\n",
      "208  37.190641  39.996534  62.254766\n",
      "209  30.797909  34.111498  53.853659\n",
      "210  27.538995  29.410745  46.982669\n",
      "211        NaN        NaN        NaN\n",
      "212  25.610052  28.256499  45.838821\n",
      "213        NaN        NaN        NaN\n",
      "214  32.394316  35.438721  56.914742\n",
      "215  25.239130  27.813406  45.364130\n",
      "216  39.236842  38.526316  60.552632\n",
      "218  33.100520  38.207972  59.632582\n",
      "219  28.564685  31.811189  50.583916\n",
      "220  32.461538  35.429338  56.461538\n",
      "221  27.718232  31.108656  50.368324\n",
      "222  38.440208  41.840555  61.457539\n",
      "223  32.415945  36.746967  56.726170\n",
      "225  34.636049  38.133449  55.429809\n",
      "226  30.679376  34.263432  53.743501\n",
      "227        NaN        NaN        NaN\n",
      "228  30.527875  34.130662  53.890244\n",
      "263  25.859519  27.510166  44.704251\n",
      "3          NaN        NaN        NaN\n",
      "622  36.471404  41.665511  71.176776\n",
      "713  20.061674  22.599119  40.365639\n",
      "808  38.058719  44.332740  75.395018\n",
      "857  33.597920  41.310225  88.967071\n",
      "895  35.105719  42.211438  70.840555\n",
      "            pm1        pm10        pm25\n",
      "140         NaN         NaN         NaN\n",
      "142   84.082583   91.133634  144.864865\n",
      "147  103.538358  112.079408  175.748318\n",
      "169   65.367089   71.477848  115.745253\n",
      "170   76.545699   87.677419  140.780914\n",
      "171   82.465680   92.535666  144.773890\n",
      "172   79.714670   91.555855  143.294751\n",
      "173   73.483871   83.018817  131.528226\n",
      "174   80.150407   85.516260  137.084011\n",
      "176   79.865591   89.666667  140.676075\n",
      "177   82.901484   96.183536  152.628880\n",
      "178   68.543119   75.025688  127.425688\n",
      "179   63.238223   70.026918  112.752355\n",
      "180   82.462173   84.867950  132.854195\n",
      "181   86.385586   97.855856  151.828829\n",
      "182   81.389189   88.294595  138.989189\n",
      "183   66.278600   72.907133  118.909825\n",
      "184   99.356269  100.139144  151.197248\n",
      "185   85.031724   86.926897  138.320000\n",
      "187   72.789757   79.312668  127.824798\n",
      "189   70.175103   76.350205  121.054720\n",
      "192   91.614344  106.261164  160.202977\n",
      "194   78.698148   84.944341  138.404453\n",
      "195   47.364130   48.358696   80.054348\n",
      "196   65.059219   73.415882  118.127860\n",
      "201   83.324361   88.441454  135.227456\n",
      "202  102.108871  108.497312  169.368280\n",
      "203   78.002774   87.361997  137.210818\n",
      "204   68.790040   75.258412  123.608345\n",
      "205   73.503958   78.382586  126.036939\n",
      "208   82.563930   89.358008  140.702557\n",
      "209   73.655914   81.572581  128.033602\n",
      "210   77.337366   82.318548  131.196237\n",
      "211   75.960969   86.605653  135.487214\n",
      "212   61.694482   66.689098  108.882907\n",
      "213   84.799462   91.608345  140.345895\n",
      "214   82.146505   85.134409  135.245968\n",
      "215   63.247645   67.777927  111.253028\n",
      "216   91.761024  103.049787  157.668563\n",
      "218   80.026882   91.630376  142.885753\n",
      "219   66.372576   73.429363  117.680055\n",
      "220   83.247645   87.292059  139.240915\n",
      "221   69.010753   78.029570  123.418011\n",
      "222   99.413190  114.981157  178.818304\n",
      "223   81.526882   93.357527  147.088710\n",
      "225   96.137363  112.214286  180.898352\n",
      "226   80.509409   90.228495  140.586022\n",
      "227   71.129173   77.973875  125.161103\n",
      "228   87.098118   96.737903  147.278226\n",
      "263   72.106326   73.320323  116.173620\n",
      "3    111.349254  127.146269  178.758209\n",
      "622         NaN         NaN         NaN\n",
      "713         NaN         NaN         NaN\n",
      "808         NaN         NaN         NaN\n",
      "857         NaN         NaN         NaN\n",
      "895         NaN         NaN         NaN\n"
     ]
    }
   ],
   "source": [
    "y_dec = get_target_variables('december')\n",
    "y_nov = get_target_variables('january')\n",
    "print(y_dec)\n",
    "print(y_nov)\n"
   ]
  },
  {
   "cell_type": "code",
   "execution_count": 30,
   "metadata": {},
   "outputs": [
    {
     "data": {
      "image/png": "[encoded data removed]",
      "text/plain": [
       "<matplotlib.figure.Figure at 0xe359dd96a0>"
      ]
     },
     "metadata": {},
     "output_type": "display_data"
    }
   ],
   "source": [
    "fig, ax = plt.subplots()\n",
    "ax.plot(y_dec.index,y_dec['pm10'])\n",
    "plt.show()"
   ]
  },
  {
   "cell_type": "code",
   "execution_count": 31,
   "metadata": {},
   "outputs": [
    {
     "data": {
      "image/png": "[encoded data removed]",
      "text/plain": [
       "<matplotlib.figure.Figure at 0xe359e52ac8>"
      ]
     },
     "metadata": {},
     "output_type": "display_data"
    }
   ],
   "source": [
    "fig, ax = plt.subplots()\n",
    "ax.plot(y_nov.index,y_nov['pm10'])\n",
    "plt.show()"
   ]
  },
  {
   "cell_type": "code",
   "execution_count": 6,
   "metadata": {},
   "outputs": [],
   "source": [
    "data = pd.concat([y, sensors_data], axis=1, join='inner')\n",
    "data = data.dropna()"
   ]
  },
  {
   "cell_type": "code",
   "execution_count": 7,
   "metadata": {},
   "outputs": [
    {
     "data": {
      "text/plain": [
       "(47, 28)"
      ]
     },
     "execution_count": 7,
     "metadata": {},
     "output_type": "execute_result"
    }
   ],
   "source": [
    "data.shape"
   ]
  },
  {
   "cell_type": "code",
   "execution_count": 8,
   "metadata": {},
   "outputs": [],
   "source": [
    "data.to_csv('./processed_data.csv')"
   ]
  },
  {
   "cell_type": "code",
   "execution_count": null,
   "metadata": {},
   "outputs": [],
   "source": []
  },
  {
   "cell_type": "code",
   "execution_count": null,
   "metadata": {},
   "outputs": [],
   "source": []
  }
 ],
 "metadata": {
  "kernelspec": {
   "display_name": "Python 3",
   "language": "python",
   "name": "python3"
  },
  "language_info": {
   "codemirror_mode": {
    "name": "ipython",
    "version": 3
   },
   "file_extension": ".py",
   "mimetype": "text/x-python",
   "name": "python",
   "nbconvert_exporter": "python",
   "pygments_lexer": "ipython3",
   "version": "3.6.0"
  }
 },
 "nbformat": 4,
 "nbformat_minor": 1
}
