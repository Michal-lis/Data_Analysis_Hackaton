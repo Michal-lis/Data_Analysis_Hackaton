{
 "cells": [
  {
   "cell_type": "code",
   "execution_count": 1,
   "metadata": {
    "collapsed": true
   },
   "outputs": [],
   "source": [
    "import src.db.dataService as db\n",
    "import src.db.preprocess as preprocess\n",
    "import pandas as pd\n",
    "\n",
    "from get_location_features import get_location_features_by_squares, get_location_features_by_radius, get_elevation_data\n",
    "\n",
    "connection = db.create_connection()\n",
    "sensors_data = pd.read_csv(\n",
    "    \"data/air-quality-data-from-extensive-network-of-sensors/sensor_locations.csv\").set_index(\n",
    "    'id')\n",
    "features_by_squares = [\n",
    "    ('grid250_dochod', 'dochod_bud_pra'),\n",
    "    ('grid250_demo_ext', 'populacja_razem'),\n",
    "    ('grid250_demo_ext', 'budynki_all'),\n",
    "    ('grid250_demo_ext', 'budynki_mieszkalne'),\n",
    "]\n",
    "squares = [9, 16, 25]\n",
    "\n",
    "features_by_radius = {\n",
    "    'Przystanek autobusowy': [1000, 2000],\n",
    "    'Oddział Banku': [1000, 2000],\n",
    "    'Przystanek tramwajowy': [1000, 2000],\n",
    "    'Hipermarket': [1000, 2000],\n",
    "    'Stacja Paliw': [1000, 3000]\n",
    "}"
   ]
  },
  {
   "cell_type": "code",
   "execution_count": 2,
   "metadata": {},
   "outputs": [],
   "source": [
    "sensors_data = get_location_features_by_squares(sensors_data, connection, features_by_squares, squares)\n",
    "sensors_data = get_location_features_by_radius(sensors_data, connection, features_by_radius)\n",
    "sensors_data = get_elevation_data(sensors_data)"
   ]
  },
  {
   "cell_type": "code",
   "execution_count": 33,
   "metadata": {},
   "outputs": [
    {
     "name": "stdout",
     "output_type": "stream",
     "text": [
      "      latitude  longitude  dochod_bud_pra_9  dochod_bud_pra_16  \\\nid                                                               \n3    50.057748  19.961375             47264              78228   \n140  50.057747  19.961374             47264              78228   \n142  50.084816  19.878066             47303              74255   \n147  50.048924  19.962262             41575              77522   \n169  50.048699  20.101569             23303              40365   \n\n     dochod_bud_pra_25  populacja_razem_9  populacja_razem_16  \\\nid                                                              \n3               113184               3743                6098   \n140             113184               3743                6098   \n142             121276               1303                1959   \n147             116384                991                2965   \n169              40365                 26                  59   \n\n     populacja_razem_25  budynki_all_9  budynki_all_16    ...      \\\nid                                                        ...       \n3                  9967            169             291    ...       \n140                9967            169             291    ...       \n142                4529            279             422    ...       \n147                5372            146             323    ...       \n169                  59             17              24    ...       \n\n     Przystanek autobusowy_2000  Oddział Banku_1000  Oddział Banku_2000  \\\nid                                                                        \n3                            63                   1                   2   \n140                          63                   1                   2   \n142                          32                   0                   0   \n147                          56                   0                   1   \n169                           1                   0                   0   \n\n     Przystanek tramwajowy_1000  Przystanek tramwajowy_2000  Hipermarket_1000  \\\nid                                                                              \n3                            17                          75                 0   \n140                          17                          75                 0   \n142                           4                           8                 0   \n147                          12                          64                 0   \n169                           0                           0                 0   \n\n     Hipermarket_2000  Stacja Paliw_1000  Stacja Paliw_3000  elevation  \nid                                                                      \n3                   2                  1                 17        203  \n140                 2                  1                 17        203  \n142                 1                  0                  7        225  \n147                 0                  3                 15        202  \n169                 0                  0                  2        194  \n\n[5 rows x 25 columns]\n"
     ]
    }
   ],
   "source": [
    "\n",
    "print(sensors_data.head())"
   ]
  },
  {
   "cell_type": "code",
   "execution_count": 56,
   "metadata": {},
   "outputs": [],
   "source": [
    "def get_target_variables():\n",
    "    december_df = pd.read_csv(\"data/air-quality-data-from-extensive-network-of-sensors/december-2017.csv\")\n",
    "    ms = december_df.mean()\n",
    "    means = pd.DataFrame({ms.index[i*6].split('_')[0]: list(ms[i*6:i*6+6]) for i in range(int(ms.shape[0]/6))}).T\n",
    "    means.columns = ['temperature', 'humidity', 'pressure', 'pm1', 'pm10', 'pm25']\n",
    "    means.index = means.index.astype('int64')\n",
    "    return means[['pm1', 'pm10', 'pm25']]"
   ]
  },
  {
   "cell_type": "code",
   "execution_count": 57,
   "metadata": {},
   "outputs": [
    {
     "data": {
      "text/html": [
       "<div>\n",
       "<style scoped>\n",
       "    .dataframe tbody tr th:only-of-type {\n",
       "        vertical-align: middle;\n",
       "    }\n",
       "\n",
       "    .dataframe tbody tr th {\n",
       "        vertical-align: top;\n",
       "    }\n",
       "\n",
       "    .dataframe thead th {\n",
       "        text-align: right;\n",
       "    }\n",
       "</style>\n",
       "<table border=\"1\" class=\"dataframe\">\n",
       "  <thead>\n",
       "    <tr style=\"text-align: right;\">\n",
       "      <th></th>\n",
       "      <th>pm1</th>\n",
       "      <th>pm10</th>\n",
       "      <th>pm25</th>\n",
       "    </tr>\n",
       "  </thead>\n",
       "  <tbody>\n",
       "    <tr>\n",
       "      <th>140</th>\n",
       "      <td>36.632582</td>\n",
       "      <td>39.072790</td>\n",
       "      <td>67.102253</td>\n",
       "    </tr>\n",
       "    <tr>\n",
       "      <th>142</th>\n",
       "      <td>NaN</td>\n",
       "      <td>NaN</td>\n",
       "      <td>NaN</td>\n",
       "    </tr>\n",
       "    <tr>\n",
       "      <th>147</th>\n",
       "      <td>NaN</td>\n",
       "      <td>NaN</td>\n",
       "      <td>NaN</td>\n",
       "    </tr>\n",
       "    <tr>\n",
       "      <th>169</th>\n",
       "      <td>24.949239</td>\n",
       "      <td>25.332487</td>\n",
       "      <td>40.593909</td>\n",
       "    </tr>\n",
       "    <tr>\n",
       "      <th>170</th>\n",
       "      <td>31.023173</td>\n",
       "      <td>34.793226</td>\n",
       "      <td>53.909091</td>\n",
       "    </tr>\n",
       "  </tbody>\n",
       "</table>\n",
       "</div>"
      ],
      "text/plain": [
       "<div>\n",
       "<style scoped>\n",
       "    .dataframe tbody tr th:only-of-type {\n",
       "        vertical-align: middle;\n",
       "    }\n",
       "\n",
       "    .dataframe tbody tr th {\n",
       "        vertical-align: top;\n",
       "    }\n",
       "\n",
       "    .dataframe thead th {\n",
       "        text-align: right;\n",
       "    }\n",
       "</style>\n",
       "<table border=\"1\" class=\"dataframe\">\n",
       "  <thead>\n",
       "    <tr style=\"text-align: right;\">\n",
       "      <th></th>\n",
       "      <th>pm1</th>\n",
       "      <th>pm10</th>\n",
       "      <th>pm25</th>\n",
       "    </tr>\n",
       "  </thead>\n",
       "  <tbody>\n",
       "    <tr>\n",
       "      <th>140</th>\n",
       "      <td>36.632582</td>\n",
       "      <td>39.072790</td>\n",
       "      <td>67.102253</td>\n",
       "    </tr>\n",
       "    <tr>\n",
       "      <th>142</th>\n",
       "      <td>NaN</td>\n",
       "      <td>NaN</td>\n",
       "      <td>NaN</td>\n",
       "    </tr>\n",
       "    <tr>\n",
       "      <th>147</th>\n",
       "      <td>NaN</td>\n",
       "      <td>NaN</td>\n",
       "      <td>NaN</td>\n",
       "    </tr>\n",
       "    <tr>\n",
       "      <th>169</th>\n",
       "      <td>24.949239</td>\n",
       "      <td>25.332487</td>\n",
       "      <td>40.593909</td>\n",
       "    </tr>\n",
       "    <tr>\n",
       "      <th>170</th>\n",
       "      <td>31.023173</td>\n",
       "      <td>34.793226</td>\n",
       "      <td>53.909091</td>\n",
       "    </tr>\n",
       "  </tbody>\n",
       "</table>\n",
       "</div>"
      ]
     },
     "execution_count": 57,
     "metadata": {},
     "output_type": "execute_result"
    }
   ],
   "source": [
    "y = get_target_variables()\n",
    "y.head()"
   ]
  },
  {
   "cell_type": "code",
   "execution_count": 62,
   "metadata": {
    "collapsed": true
   },
   "outputs": [],
   "source": [
    "data = pd.concat([y, sensors_data], axis=1, join='inner')\n",
    "data = data.dropna()"
   ]
  },
  {
   "cell_type": "code",
   "execution_count": 64,
   "metadata": {},
   "outputs": [
    {
     "data": {
      "text/plain": [
       "(47, 28)"
      ]
     },
     "execution_count": 64,
     "metadata": {},
     "output_type": "execute_result"
    }
   ],
   "source": [
    "data.shape"
   ]
  },
  {
   "cell_type": "code",
   "execution_count": 67,
   "metadata": {},
   "outputs": [],
   "source": [
    "data.to_csv('./processed_data.csv')"
   ]
  },
  {
   "cell_type": "code",
   "execution_count": 49,
   "metadata": {},
   "outputs": [
    {
     "data": {
      "text/plain": [
       "Int64Index([  3, 140, 142, 147, 169, 170, 171, 172, 173, 174, 176, 177, 178,\n            179, 180, 181, 182, 183, 184, 185, 187, 189, 192, 194, 195, 196,\n            201, 202, 203, 204, 205, 208, 209, 210, 211, 212, 213, 214, 215,\n            216, 218, 219, 220, 221, 222, 223, 225, 226, 227, 228, 263, 622,\n            713, 808, 857, 895],\n           dtype='int64', name='id')"
      ]
     },
     "execution_count": 49,
     "metadata": {},
     "output_type": "execute_result"
    }
   ],
   "source": [
    ""
   ]
  },
  {
   "cell_type": "code",
   "execution_count": null,
   "metadata": {},
   "outputs": [],
   "source": []
  }
 ],
 "metadata": {
  "kernelspec": {
   "display_name": "Python 2",
   "language": "python",
   "name": "python2"
  },
  "language_info": {
   "codemirror_mode": {
    "name": "ipython",
    "version": 2
   },
   "file_extension": ".py",
   "mimetype": "text/x-python",
   "name": "python",
   "nbconvert_exporter": "python",
   "pygments_lexer": "ipython2",
   "version": "2.7.6"
  }
 },
 "nbformat": 4,
 "nbformat_minor": 0
}
